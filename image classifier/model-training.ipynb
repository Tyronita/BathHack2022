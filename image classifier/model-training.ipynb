{
 "cells": [
  {
   "cell_type": "code",
   "execution_count": 4,
   "metadata": {},
   "outputs": [],
   "source": [
    "# import ML libraries\n",
    "import tensorflow as tf\n",
    "from tensorflow.keras.datasets import cifar10\n",
    "from tensorflow.keras.preprocessing.image import ImageDataGenerator\n",
    "from tensorflow.keras.models import Sequential\n",
    "from tensorflow.keras.layers import Dense, Dropout, Activation, Flatten\n",
    "from tensorflow.keras.layers import Conv2D, MaxPooling2D\n",
    "\n",
    "# import other libraries\n",
    "import numpy as np\n",
    "import pickle"
   ]
  },
  {
   "cell_type": "code",
   "execution_count": 5,
   "metadata": {},
   "outputs": [
    {
     "name": "stdout",
     "output_type": "stream",
     "text": [
      "Epoch 1/3\n",
      "16/16 [==============================] - 138s 9s/step - loss: 3.4005 - accuracy: 0.6181\n",
      "Epoch 2/3\n",
      "16/16 [==============================] - 129s 8s/step - loss: 0.2160 - accuracy: 0.9311\n",
      "Epoch 3/3\n",
      "16/16 [==============================] - 130s 8s/step - loss: 0.0816 - accuracy: 0.9705\n"
     ]
    },
    {
     "data": {
      "text/plain": [
       "<keras.callbacks.History at 0x16fdcf0e0b0>"
      ]
     },
     "execution_count": 5,
     "metadata": {},
     "output_type": "execute_result"
    }
   ],
   "source": [
    "# load in image data\n",
    "pickle_in = open(\"X.pickle\",\"rb\")\n",
    "X = pickle.load(pickle_in)\n",
    "\n",
    "pickle_in = open(\"y.pickle\",\"rb\")\n",
    "y = pickle.load(pickle_in)\n",
    "\n",
    "# normalise image data\n",
    "X = X/255.0\n",
    "\n",
    "# Convert image with classification to numpy array\n",
    "y = np.array(y)\n",
    "X = np.array(X)\n",
    " \n",
    "# instantiate a sequential neural network\n",
    "model = Sequential()\n",
    " \n",
    "#  -- add layers to model\n",
    "\n",
    "# Convolution layer converts all the pixels and information in its receptive field into a single pixel - decreases data size.\n",
    "model.add(Conv2D(256, (3, 3), input_shape=X.shape[1:]))\n",
    "\n",
    "# RELU sets all negative values in the matrix to 0 and all others kept constant - prevents exponential growth in the computation.\n",
    "model.add(Activation('relu'))\n",
    "\n",
    "# Similar to conv2d but are selects the max values in the receptive fields of the input, saving indices and produces a summarized output volume.\n",
    "model.add(MaxPooling2D(pool_size=(2, 2)))\n",
    "\n",
    "# Repeat ^\n",
    "model.add(Conv2D(180, (3, 3)))\n",
    "model.add(Activation('relu'))\n",
    "model.add(MaxPooling2D(pool_size=(2, 2)))\n",
    "\n",
    "# Converts our 2D feature maps to 1D feature vectors\n",
    "model.add(Flatten())  \n",
    "\n",
    "# Dense layer feeds all outputs from the previous layer to all its neurons, each neuron providing one output to the next layer.\n",
    "model.add(Dense(64))\n",
    "\n",
    "# Generates one output value\n",
    "model.add(Dense(1))\n",
    "\n",
    "# Predicts the probability as an output: [-∞, +∞] -> [0, 1] \n",
    "model.add(Activation('sigmoid'))\n",
    "\n",
    "# Compile defines the loss function, the optimizer and the metrics.\n",
    "model.compile(loss='binary_crossentropy',\n",
    "             optimizer='adam',\n",
    "             metrics=['accuracy'])\n",
    " \n",
    "# trains Neural Network Weights\n",
    "model.fit(X, y, batch_size=32, epochs=3)"
   ]
  },
  {
   "cell_type": "code",
   "execution_count": 1,
   "metadata": {},
   "outputs": [
    {
     "ename": "NameError",
     "evalue": "name 'model' is not defined",
     "output_type": "error",
     "traceback": [
      "\u001b[1;31m---------------------------------------------------------------------------\u001b[0m",
      "\u001b[1;31mNameError\u001b[0m                                 Traceback (most recent call last)",
      "\u001b[1;32mc:\\BathHack2022\\Project Halo\\image classifier\\model-training.ipynb Cell 3'\u001b[0m in \u001b[0;36m<cell line: 2>\u001b[1;34m()\u001b[0m\n\u001b[0;32m      <a href='vscode-notebook-cell:/c%3A/BathHack2022/Project%20Halo/image%20classifier/model-training.ipynb#ch0000002?line=0'>1</a>\u001b[0m \u001b[39m# exports models fitted weights to ->\u001b[39;00m\n\u001b[1;32m----> <a href='vscode-notebook-cell:/c%3A/BathHack2022/Project%20Halo/image%20classifier/model-training.ipynb#ch0000002?line=1'>2</a>\u001b[0m model\u001b[39m.\u001b[39msave(\u001b[39m'\u001b[39m\u001b[39m../saved/my_model\u001b[39m\u001b[39m'\u001b[39m)\n",
      "\u001b[1;31mNameError\u001b[0m: name 'model' is not defined"
     ]
    }
   ],
   "source": [
    "# exports models fitted weights to ->\n",
    "model.save('../saved/my_model')"
   ]
  },
  {
   "cell_type": "code",
   "execution_count": null,
   "metadata": {},
   "outputs": [],
   "source": []
  }
 ],
 "metadata": {
  "interpreter": {
   "hash": "926a4d77205b85ce749416e818a07ce8c96c75cc59eda39bf62aa9ae45137bc2"
  },
  "kernelspec": {
   "display_name": "Python 3.10.4 64-bit (windows store)",
   "language": "python",
   "name": "python3"
  },
  "language_info": {
   "codemirror_mode": {
    "name": "ipython",
    "version": 3
   },
   "file_extension": ".py",
   "mimetype": "text/x-python",
   "name": "python",
   "nbconvert_exporter": "python",
   "pygments_lexer": "ipython3",
   "version": "3.10.4"
  },
  "orig_nbformat": 4
 },
 "nbformat": 4,
 "nbformat_minor": 2
}
